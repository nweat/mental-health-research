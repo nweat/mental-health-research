{
 "cells": [
  {
   "cell_type": "code",
   "execution_count": 5,
   "metadata": {
    "collapsed": false
   },
   "outputs": [],
   "source": [
    "%matplotlib inline\n",
    "from sklearn.feature_extraction.text import TfidfVectorizer\n",
    "from wordcloud import WordCloud\n",
    "import matplotlib.pyplot as plt\n",
    "import numpy as np\n",
    "import pandas as pd\n",
    "import matplotlib.pyplot as plt\n",
    "import plotly.plotly as plotl\n",
    "import plotly.graph_objs as go\n",
    "import plotly.tools as tls\n",
    "from plotly.tools import FigureFactory as FF\n",
    "plt.style.use('ggplot')  "
   ]
  },
  {
   "cell_type": "code",
   "execution_count": 12,
   "metadata": {
    "collapsed": false
   },
   "outputs": [
    {
     "name": "stdout",
     "output_type": "stream",
     "text": [
      "{u'this': 1.0, u'very': 1.0, u'is': 1.0, u'strange': 1.4054651081081644, u'nice': 1.4054651081081644}\n"
     ]
    }
   ],
   "source": [
    "corpus = [\"This is very strange\",\n",
    "          \"This is very nice\"]\n",
    "vectorizer = TfidfVectorizer(\n",
    "                        use_idf=True, # utiliza o idf como peso, fazendo tf*idf\n",
    "                        norm=None, # normaliza os vetores\n",
    "                        smooth_idf=True, #soma 1 ao N e ao ni => idf = ln(N+1 / ni+1)\n",
    "                        sublinear_tf=False, #tf = 1+ln(tf)\n",
    "                        binary=False,\n",
    "                        min_df=1, max_df=1.0, max_features=None,\n",
    "                        strip_accents='unicode', # retira os acentos\n",
    "                        ngram_range=(1,1), preprocessor=None, stop_words=None, tokenizer=None, vocabulary=None\n",
    "             )\n",
    "X = vectorizer.fit_transform(corpus)\n",
    "idf = vectorizer.idf_\n",
    "print dict(zip(vectorizer.get_feature_names(), idf))"
   ]
  },
  {
   "cell_type": "code",
   "execution_count": 3,
   "metadata": {
    "collapsed": false
   },
   "outputs": [
    {
     "data": {
      "text/html": [
       "<div>\n",
       "<table border=\"1\" class=\"dataframe\">\n",
       "  <thead>\n",
       "    <tr style=\"text-align: right;\">\n",
       "      <th></th>\n",
       "      <th>tweetCreated</th>\n",
       "      <th>tweetFav</th>\n",
       "      <th>tweetID</th>\n",
       "      <th>tweetLang</th>\n",
       "      <th>tweetRT</th>\n",
       "      <th>tweetText</th>\n",
       "      <th>userID</th>\n",
       "      <th>userScreeName</th>\n",
       "    </tr>\n",
       "  </thead>\n",
       "  <tbody>\n",
       "    <tr>\n",
       "      <th>0</th>\n",
       "      <td>2016-12-21 07:12:37</td>\n",
       "      <td>0</td>\n",
       "      <td>811469406882721792</td>\n",
       "      <td>en</td>\n",
       "      <td>50</td>\n",
       "      <td>RT @stephondupreepr: If I don't glo up in 2017...</td>\n",
       "      <td>710989245570289664</td>\n",
       "      <td>zaaria_</td>\n",
       "    </tr>\n",
       "    <tr>\n",
       "      <th>1</th>\n",
       "      <td>2016-12-21 07:05:09</td>\n",
       "      <td>0</td>\n",
       "      <td>811467529109569536</td>\n",
       "      <td>en</td>\n",
       "      <td>0</td>\n",
       "      <td>I'm over this retainer already</td>\n",
       "      <td>710989245570289664</td>\n",
       "      <td>zaaria_</td>\n",
       "    </tr>\n",
       "    <tr>\n",
       "      <th>2</th>\n",
       "      <td>2016-12-21 06:02:31</td>\n",
       "      <td>0</td>\n",
       "      <td>811451764557967360</td>\n",
       "      <td>en</td>\n",
       "      <td>0</td>\n",
       "      <td>I love scary movie 2 😂😂</td>\n",
       "      <td>710989245570289664</td>\n",
       "      <td>zaaria_</td>\n",
       "    </tr>\n",
       "    <tr>\n",
       "      <th>3</th>\n",
       "      <td>2016-12-21 04:03:56</td>\n",
       "      <td>0</td>\n",
       "      <td>811421921392885760</td>\n",
       "      <td>en</td>\n",
       "      <td>0</td>\n",
       "      <td>my dog deadass has separation anxiety</td>\n",
       "      <td>710989245570289664</td>\n",
       "      <td>zaaria_</td>\n",
       "    </tr>\n",
       "    <tr>\n",
       "      <th>4</th>\n",
       "      <td>2016-12-21 00:28:51</td>\n",
       "      <td>0</td>\n",
       "      <td>811367793425862656</td>\n",
       "      <td>en</td>\n",
       "      <td>0</td>\n",
       "      <td>Alexus just made my day... she told me my ass ...</td>\n",
       "      <td>710989245570289664</td>\n",
       "      <td>zaaria_</td>\n",
       "    </tr>\n",
       "  </tbody>\n",
       "</table>\n",
       "</div>"
      ],
      "text/plain": [
       "          tweetCreated  tweetFav             tweetID tweetLang  tweetRT  \\\n",
       "0  2016-12-21 07:12:37         0  811469406882721792        en       50   \n",
       "1  2016-12-21 07:05:09         0  811467529109569536        en        0   \n",
       "2  2016-12-21 06:02:31         0  811451764557967360        en        0   \n",
       "3  2016-12-21 04:03:56         0  811421921392885760        en        0   \n",
       "4  2016-12-21 00:28:51         0  811367793425862656        en        0   \n",
       "\n",
       "                                           tweetText              userID  \\\n",
       "0  RT @stephondupreepr: If I don't glo up in 2017...  710989245570289664   \n",
       "1                     I'm over this retainer already  710989245570289664   \n",
       "2                          I love scary movie 2 😂😂  710989245570289664   \n",
       "3              my dog deadass has separation anxiety  710989245570289664   \n",
       "4  Alexus just made my day... she told me my ass ...  710989245570289664   \n",
       "\n",
       "  userScreeName  \n",
       "0       zaaria_  \n",
       "1       zaaria_  \n",
       "2       zaaria_  \n",
       "3       zaaria_  \n",
       "4       zaaria_  "
      ]
     },
     "execution_count": 3,
     "metadata": {},
     "output_type": "execute_result"
    }
   ],
   "source": [
    "df = pd.read_json('bipolar_comorbid_patient_tweets.json')\n",
    "df.head()"
   ]
  },
  {
   "cell_type": "code",
   "execution_count": 21,
   "metadata": {
    "collapsed": false
   },
   "outputs": [
    {
     "data": {
      "text/html": [
       "<iframe id=\"igraph\" scrolling=\"no\" style=\"border:none;\" seamless=\"seamless\" src=\"https://plot.ly/~nweat/39.embed\" height=\"525px\" width=\"100%\"></iframe>"
      ],
      "text/plain": [
       "<plotly.tools.PlotlyDisplay object>"
      ]
     },
     "execution_count": 21,
     "metadata": {},
     "output_type": "execute_result"
    }
   ],
   "source": [
    "hist_data = [df['tweetCreated']]\n",
    "data = [go.Histogram(y=df['tweetLang'])]\n",
    "layout = go.Layout(\n",
    "    title='Exploring students dictionary usage',\n",
    "    xaxis=dict(\n",
    "        title='frequency',\n",
    "        titlefont=dict(\n",
    "            family='Courier New, monospace',\n",
    "            size=18,\n",
    "            color='#7f7f7f'\n",
    "        )\n",
    "    )\n",
    ")\n",
    "fig = go.Figure(data=data, layout=layout)\n",
    "plotl.iplot(fig)"
   ]
  },
  {
   "cell_type": "code",
   "execution_count": null,
   "metadata": {
    "collapsed": true
   },
   "outputs": [],
   "source": []
  },
  {
   "cell_type": "code",
   "execution_count": null,
   "metadata": {
    "collapsed": true
   },
   "outputs": [],
   "source": []
  }
 ],
 "metadata": {
  "anaconda-cloud": {},
  "kernelspec": {
   "display_name": "Python [default]",
   "language": "python",
   "name": "python2"
  },
  "language_info": {
   "codemirror_mode": {
    "name": "ipython",
    "version": 2
   },
   "file_extension": ".py",
   "mimetype": "text/x-python",
   "name": "python",
   "nbconvert_exporter": "python",
   "pygments_lexer": "ipython2",
   "version": "2.7.12"
  }
 },
 "nbformat": 4,
 "nbformat_minor": 1
}
