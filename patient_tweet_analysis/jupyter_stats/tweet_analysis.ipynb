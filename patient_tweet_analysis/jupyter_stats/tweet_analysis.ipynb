{
 "cells": [
  {
   "cell_type": "code",
   "execution_count": 2,
   "metadata": {
    "collapsed": false
   },
   "outputs": [],
   "source": [
    "%matplotlib inline\n",
    "from sklearn.feature_extraction.text import TfidfVectorizer\n",
    "from wordcloud import WordCloud\n",
    "import matplotlib.pyplot as plt\n",
    "import numpy as np\n",
    "import pandas as pd\n",
    "import matplotlib.pyplot as plt\n",
    "import plotly.plotly as plotl\n",
    "import plotly.graph_objs as go\n",
    "import plotly.tools as tls\n",
    "from plotly.tools import FigureFactory as FF\n",
    "\n",
    "import os, csv\n",
    "from multiprocessing import Pool\n",
    "from nltk.corpus import stopwords\n",
    "import string\n",
    "import re\n",
    "from collections import Counter\n",
    "from unicodedata import normalize\n",
    "from nltk import bigrams \n",
    "plt.style.use('ggplot')  \n",
    "tls.set_credentials_file(username='nweat', api_key='BgNMfzTIbo5F2wPiSCCF')"
   ]
  },
  {
   "cell_type": "code",
   "execution_count": 3,
   "metadata": {
    "collapsed": false,
    "scrolled": true
   },
   "outputs": [
    {
     "data": {
      "text/html": [
       "<div>\n",
       "<table border=\"1\" class=\"dataframe\">\n",
       "  <thead>\n",
       "    <tr style=\"text-align: right;\">\n",
       "      <th></th>\n",
       "      <th>userid</th>\n",
       "      <th>username</th>\n",
       "      <th>desc</th>\n",
       "      <th>created</th>\n",
       "      <th>lang</th>\n",
       "      <th>timezone</th>\n",
       "      <th>location</th>\n",
       "      <th>statusNum</th>\n",
       "      <th>followingNum</th>\n",
       "      <th>followersNum</th>\n",
       "      <th>advocate</th>\n",
       "    </tr>\n",
       "  </thead>\n",
       "  <tbody>\n",
       "    <tr>\n",
       "      <th>0</th>\n",
       "      <td>2255546526</td>\n",
       "      <td>Demolarsarah</td>\n",
       "      <td>Because I care about Aleppo and Syria. I want ...</td>\n",
       "      <td>2013-12-20 21:32:23</td>\n",
       "      <td>en</td>\n",
       "      <td>NaN</td>\n",
       "      <td>The west coast.</td>\n",
       "      <td>797</td>\n",
       "      <td>165</td>\n",
       "      <td>37</td>\n",
       "      <td>0</td>\n",
       "    </tr>\n",
       "    <tr>\n",
       "      <th>1</th>\n",
       "      <td>760091616</td>\n",
       "      <td>Bipolar_Bandit</td>\n",
       "      <td>I'm a strong  mental health advocate .  I show...</td>\n",
       "      <td>2012-08-15 20:22:26</td>\n",
       "      <td>en</td>\n",
       "      <td>Atlantic Time (Canada)</td>\n",
       "      <td>North Carolina</td>\n",
       "      <td>11557</td>\n",
       "      <td>9128</td>\n",
       "      <td>11982</td>\n",
       "      <td>1</td>\n",
       "    </tr>\n",
       "  </tbody>\n",
       "</table>\n",
       "</div>"
      ],
      "text/plain": [
       "       userid        username  \\\n",
       "0  2255546526    Demolarsarah   \n",
       "1   760091616  Bipolar_Bandit   \n",
       "\n",
       "                                                desc              created  \\\n",
       "0  Because I care about Aleppo and Syria. I want ...  2013-12-20 21:32:23   \n",
       "1  I'm a strong  mental health advocate .  I show...  2012-08-15 20:22:26   \n",
       "\n",
       "  lang                timezone          location  statusNum  followingNum  \\\n",
       "0   en                     NaN  The west coast.         797           165   \n",
       "1   en  Atlantic Time (Canada)    North Carolina      11557          9128   \n",
       "\n",
       "   followersNum  advocate  \n",
       "0            37         0  \n",
       "1         11982         1  "
      ]
     },
     "execution_count": 3,
     "metadata": {},
     "output_type": "execute_result"
    }
   ],
   "source": [
    "bipolar_patients = pd.read_csv('../bipolar/bipolar_patients.csv')\n",
    "bipolar_comorbid_patients = pd.read_csv('../bipolar_comorbid/bipolar_comorbid_patients.csv')\n",
    "depression_patients = pd.read_csv('../depression/depression_patients.csv')\n",
    "depression_comorbid = pd.read_csv('../depression_comorbid/depression_comorbid_patients.csv')\n",
    "bipolar_patients.head(2) "
   ]
  },
  {
   "cell_type": "code",
   "execution_count": 4,
   "metadata": {
    "collapsed": false
   },
   "outputs": [
    {
     "name": "stdout",
     "output_type": "stream",
     "text": [
      "This is the format of your plot grid:\n",
      "[ (1,1) x1,y1 ]  [ (1,2) x2,y2 ]\n",
      "[ (2,1) x3,y3 ]  [ (2,2) x4,y4 ]\n",
      "\n"
     ]
    },
    {
     "data": {
      "text/html": [
       "<iframe id=\"igraph\" scrolling=\"no\" style=\"border:none;\" seamless=\"seamless\" src=\"https://plot.ly/~nweat/135.embed\" height=\"600px\" width=\"800px\"></iframe>"
      ],
      "text/plain": [
       "<plotly.tools.PlotlyDisplay object>"
      ]
     },
     "execution_count": 4,
     "metadata": {},
     "output_type": "execute_result"
    }
   ],
   "source": [
    "#https://plot.ly/python/subplots/\n",
    "bp = go.Histogram(y=bipolar_patients['lang'])\n",
    "bpc = go.Histogram(y=bipolar_comorbid_patients['lang'])\n",
    "dp = go.Histogram(y=depression_patients['lang'])\n",
    "dpc = go.Histogram(y=depression_comorbid['lang'])\n",
    "\n",
    "fig = tls.make_subplots(rows=2, cols=2, subplot_titles=('Bipolar', 'Bipolar Comorbid','Depression', 'Depression Comorbid'))\n",
    "\n",
    "fig.append_trace(bp, 1, 1)\n",
    "fig.append_trace(bpc, 1, 2)\n",
    "fig.append_trace(dp, 2, 1)\n",
    "fig.append_trace(dpc, 2, 2)\n",
    "\n",
    "fig['layout'].update(height=600, width=800, title='Exploring distribution of patients language')\n",
    "plotl.iplot(fig)"
   ]
  },
  {
   "cell_type": "code",
   "execution_count": 5,
   "metadata": {
    "collapsed": false
   },
   "outputs": [
    {
     "name": "stdout",
     "output_type": "stream",
     "text": [
      "This is the format of your plot grid:\n",
      "[ (1,1) x1,y1 ]  [ (1,2) x2,y2 ]\n",
      "[ (2,1) x3,y3 ]  [ (2,2) x4,y4 ]\n",
      "\n"
     ]
    },
    {
     "data": {
      "text/html": [
       "<iframe id=\"igraph\" scrolling=\"no\" style=\"border:none;\" seamless=\"seamless\" src=\"https://plot.ly/~nweat/137.embed\" height=\"600px\" width=\"800px\"></iframe>"
      ],
      "text/plain": [
       "<plotly.tools.PlotlyDisplay object>"
      ]
     },
     "execution_count": 5,
     "metadata": {},
     "output_type": "execute_result"
    }
   ],
   "source": [
    "bp = go.Histogram(y=bipolar_patients['created'])\n",
    "bpc = go.Histogram(y=bipolar_comorbid_patients['created'])\n",
    "dp = go.Histogram(y=depression_patients['created'])\n",
    "dpc = go.Histogram(y=depression_comorbid['created'])\n",
    "\n",
    "fig = tls.make_subplots(rows=2, cols=2, subplot_titles=('Bipolar', 'Bipolar Comorbid','Depression', 'Depression Comorbid'))\n",
    "\n",
    "fig.append_trace(bp, 1, 1)\n",
    "fig.append_trace(bpc, 1, 2)\n",
    "fig.append_trace(dp, 2, 1)\n",
    "fig.append_trace(dpc, 2, 2)\n",
    "\n",
    "fig['layout'].update(height=600, width=800, title='Exploring distribution of patients create data')\n",
    "plotl.iplot(fig)"
   ]
  },
  {
   "cell_type": "code",
   "execution_count": 6,
   "metadata": {
    "collapsed": false
   },
   "outputs": [
    {
     "name": "stdout",
     "output_type": "stream",
     "text": [
      "This is the format of your plot grid:\n",
      "[ (1,1) x1,y1 ]  [ (1,2) x2,y2 ]\n",
      "[ (2,1) x3,y3 ]  [ (2,2) x4,y4 ]\n",
      "\n"
     ]
    },
    {
     "data": {
      "text/html": [
       "<iframe id=\"igraph\" scrolling=\"no\" style=\"border:none;\" seamless=\"seamless\" src=\"https://plot.ly/~nweat/139.embed\" height=\"600px\" width=\"800px\"></iframe>"
      ],
      "text/plain": [
       "<plotly.tools.PlotlyDisplay object>"
      ]
     },
     "execution_count": 6,
     "metadata": {},
     "output_type": "execute_result"
    }
   ],
   "source": [
    "bp = go.Histogram(y=bipolar_patients['timezone'])\n",
    "bpc = go.Histogram(y=bipolar_comorbid_patients['timezone'])\n",
    "dp = go.Histogram(y=depression_patients['timezone'])\n",
    "dpc = go.Histogram(y=depression_comorbid['timezone'])\n",
    "\n",
    "fig = tls.make_subplots(rows=2, cols=2, subplot_titles=('Bipolar', 'Bipolar Comorbid','Depression', 'Depression Comorbid'))\n",
    "\n",
    "fig.append_trace(bp, 1, 1)\n",
    "fig.append_trace(bpc, 1, 2)\n",
    "fig.append_trace(dp, 2, 1)\n",
    "fig.append_trace(dpc, 2, 2)\n",
    "\n",
    "fig['layout'].update(height=600, width=800, title='Exploring distribution of patients timezone')\n",
    "plotl.iplot(fig)"
   ]
  },
  {
   "cell_type": "code",
   "execution_count": 7,
   "metadata": {
    "collapsed": false
   },
   "outputs": [
    {
     "name": "stdout",
     "output_type": "stream",
     "text": [
      "This is the format of your plot grid:\n",
      "[ (1,1) x1,y1 ]  [ (1,2) x2,y2 ]\n",
      "[ (2,1) x3,y3 ]  [ (2,2) x4,y4 ]\n",
      "\n"
     ]
    },
    {
     "data": {
      "text/html": [
       "<iframe id=\"igraph\" scrolling=\"no\" style=\"border:none;\" seamless=\"seamless\" src=\"https://plot.ly/~nweat/141.embed\" height=\"600px\" width=\"800px\"></iframe>"
      ],
      "text/plain": [
       "<plotly.tools.PlotlyDisplay object>"
      ]
     },
     "execution_count": 7,
     "metadata": {},
     "output_type": "execute_result"
    }
   ],
   "source": [
    "bp = go.Histogram(y=bipolar_patients['statusNum'])\n",
    "bpc = go.Histogram(y=bipolar_comorbid_patients['statusNum'])\n",
    "dp = go.Histogram(y=depression_patients['statusNum'])\n",
    "dpc = go.Histogram(y=depression_comorbid['statusNum'])\n",
    "\n",
    "fig = tls.make_subplots(rows=2, cols=2, subplot_titles=('Bipolar', 'Bipolar Comorbid','Depression', 'Depression Comorbid'))\n",
    "\n",
    "fig.append_trace(bp, 1, 1)\n",
    "fig.append_trace(bpc, 1, 2)\n",
    "fig.append_trace(dp, 2, 1)\n",
    "fig.append_trace(dpc, 2, 2)\n",
    "\n",
    "fig['layout'].update(height=600, width=800, title='Exploring distribution of patients status postings')\n",
    "plotl.iplot(fig)"
   ]
  },
  {
   "cell_type": "code",
   "execution_count": 8,
   "metadata": {
    "collapsed": false
   },
   "outputs": [
    {
     "name": "stdout",
     "output_type": "stream",
     "text": [
      "This is the format of your plot grid:\n",
      "[ (1,1) x1,y1 ]  [ (1,2) x2,y2 ]\n",
      "[ (2,1) x3,y3 ]  [ (2,2) x4,y4 ]\n",
      "\n"
     ]
    },
    {
     "data": {
      "text/html": [
       "<iframe id=\"igraph\" scrolling=\"no\" style=\"border:none;\" seamless=\"seamless\" src=\"https://plot.ly/~nweat/143.embed\" height=\"600px\" width=\"800px\"></iframe>"
      ],
      "text/plain": [
       "<plotly.tools.PlotlyDisplay object>"
      ]
     },
     "execution_count": 8,
     "metadata": {},
     "output_type": "execute_result"
    }
   ],
   "source": [
    "bp = go.Histogram(y=bipolar_patients['advocate'])\n",
    "bpc = go.Histogram(y=bipolar_comorbid_patients['advocate'])\n",
    "dp = go.Histogram(y=depression_patients['advocate'])\n",
    "dpc = go.Histogram(y=depression_comorbid['advocate'])\n",
    "\n",
    "fig = tls.make_subplots(rows=2, cols=2, subplot_titles=('Bipolar', 'Bipolar Comorbid','Depression', 'Depression Comorbid'))\n",
    "\n",
    "fig.append_trace(bp, 1, 1)\n",
    "fig.append_trace(bpc, 1, 2)\n",
    "fig.append_trace(dp, 2, 1)\n",
    "fig.append_trace(dpc, 2, 2)\n",
    "\n",
    "fig['layout'].update(height=600, width=800, title='Exploring distribution of advocates')\n",
    "plotl.iplot(fig)"
   ]
  },
  {
   "cell_type": "code",
   "execution_count": 16,
   "metadata": {
    "collapsed": false
   },
   "outputs": [
    {
     "data": {
      "text/html": [
       "<div>\n",
       "<table border=\"1\" class=\"dataframe\">\n",
       "  <thead>\n",
       "    <tr style=\"text-align: right;\">\n",
       "      <th></th>\n",
       "      <th>userid</th>\n",
       "      <th>username</th>\n",
       "      <th>tweetCreated</th>\n",
       "      <th>tweetLang</th>\n",
       "      <th>tweetText</th>\n",
       "      <th>hashtags</th>\n",
       "      <th>mentions</th>\n",
       "      <th>favorites</th>\n",
       "      <th>retweet</th>\n",
       "    </tr>\n",
       "  </thead>\n",
       "  <tbody>\n",
       "    <tr>\n",
       "      <th>0</th>\n",
       "      <td>2255546526</td>\n",
       "      <td>Demolarsarah</td>\n",
       "      <td>2016-12-30 06:57:04</td>\n",
       "      <td>en</td>\n",
       "      <td>RT @malali888: @Ingo_Neumann i will never give...</td>\n",
       "      <td>NaN</td>\n",
       "      <td>@malali888 @Ingo_Neumann</td>\n",
       "      <td>0</td>\n",
       "      <td>1</td>\n",
       "    </tr>\n",
       "    <tr>\n",
       "      <th>1</th>\n",
       "      <td>2255546526</td>\n",
       "      <td>Demolarsarah</td>\n",
       "      <td>2016-12-30 06:56:40</td>\n",
       "      <td>en</td>\n",
       "      <td>@malali888 But I also pray for peace and heali...</td>\n",
       "      <td>NaN</td>\n",
       "      <td>@malali888</td>\n",
       "      <td>0</td>\n",
       "      <td>0</td>\n",
       "    </tr>\n",
       "    <tr>\n",
       "      <th>2</th>\n",
       "      <td>2255546526</td>\n",
       "      <td>Demolarsarah</td>\n",
       "      <td>2016-12-30 06:54:15</td>\n",
       "      <td>en</td>\n",
       "      <td>RT @malali888: Man holding his daughter after ...</td>\n",
       "      <td>#s</td>\n",
       "      <td>@malali888</td>\n",
       "      <td>0</td>\n",
       "      <td>1</td>\n",
       "    </tr>\n",
       "    <tr>\n",
       "      <th>3</th>\n",
       "      <td>2255546526</td>\n",
       "      <td>Demolarsarah</td>\n",
       "      <td>2016-12-30 06:54:00</td>\n",
       "      <td>en</td>\n",
       "      <td>@malali888 I am praying for him right now! We ...</td>\n",
       "      <td>NaN</td>\n",
       "      <td>@malali888</td>\n",
       "      <td>1</td>\n",
       "      <td>0</td>\n",
       "    </tr>\n",
       "    <tr>\n",
       "      <th>4</th>\n",
       "      <td>2255546526</td>\n",
       "      <td>Demolarsarah</td>\n",
       "      <td>2016-12-28 18:41:02</td>\n",
       "      <td>en</td>\n",
       "      <td>RT @frontlinepbs: What does it really mean to ...</td>\n",
       "      <td>#exodus</td>\n",
       "      <td>@frontlinepbs</td>\n",
       "      <td>0</td>\n",
       "      <td>94</td>\n",
       "    </tr>\n",
       "  </tbody>\n",
       "</table>\n",
       "</div>"
      ],
      "text/plain": [
       "       userid      username         tweetCreated tweetLang  \\\n",
       "0  2255546526  Demolarsarah  2016-12-30 06:57:04        en   \n",
       "1  2255546526  Demolarsarah  2016-12-30 06:56:40        en   \n",
       "2  2255546526  Demolarsarah  2016-12-30 06:54:15        en   \n",
       "3  2255546526  Demolarsarah  2016-12-30 06:54:00        en   \n",
       "4  2255546526  Demolarsarah  2016-12-28 18:41:02        en   \n",
       "\n",
       "                                           tweetText hashtags  \\\n",
       "0  RT @malali888: @Ingo_Neumann i will never give...      NaN   \n",
       "1  @malali888 But I also pray for peace and heali...      NaN   \n",
       "2  RT @malali888: Man holding his daughter after ...       #s   \n",
       "3  @malali888 I am praying for him right now! We ...      NaN   \n",
       "4  RT @frontlinepbs: What does it really mean to ...  #exodus   \n",
       "\n",
       "                   mentions  favorites  retweet  \n",
       "0  @malali888 @Ingo_Neumann          0        1  \n",
       "1                @malali888          0        0  \n",
       "2                @malali888          0        1  \n",
       "3                @malali888          1        0  \n",
       "4             @frontlinepbs          0       94  "
      ]
     },
     "execution_count": 16,
     "metadata": {},
     "output_type": "execute_result"
    }
   ],
   "source": [
    "#http://blog.coderscrowd.com/twitter-hashtag-data-analysis-with-python/\n",
    "######################################################################\n",
    "#######  FORMAT FOR USER LEVEL STATS\n",
    "######################################################################\n",
    "bipolar_tweets = pd.read_csv('../bipolar/bipolar_tweets.csv')\n",
    "bipolar_tweets.head(5)"
   ]
  },
  {
   "cell_type": "code",
   "execution_count": 17,
   "metadata": {
    "collapsed": false
   },
   "outputs": [
    {
     "data": {
      "text/plain": [
       "username\n",
       "1000GramMajor        18\n",
       "10poundstogo       1161\n",
       "12thCenturyFox     1091\n",
       "1_nerdy_mama         23\n",
       "1dintl_updates      595\n",
       "1ecmarv            1553\n",
       "1stdegree_murda     452\n",
       "20KeiS              531\n",
       "21atnight           725\n",
       "2PhoneRiley         906\n",
       "2loveable_nique     189\n",
       "3Deziree           2558\n",
       "66_Rapunzel        1292\n",
       "6BillionSecrets       0\n",
       "8Nello             1509\n",
       "905wesa             439\n",
       "917wvxu            1091\n",
       "9ja_outlawchick     977\n",
       "AAlasondro            0\n",
       "AFSPoregon          437\n",
       "AHCI_Recovery       294\n",
       "ALMentalHealth       40\n",
       "AO2GEN              277\n",
       "AbbyElfie           168\n",
       "Active_Minds       1132\n",
       "ActualJoykiller      36\n",
       "AeolianSkeleton     106\n",
       "Aesdaishar          905\n",
       "Aguyinachair       1168\n",
       "AhnethAhra         1274\n",
       "                   ... \n",
       "worldhandss           0\n",
       "worldisafrick       261\n",
       "worldnews_net       577\n",
       "would_woody        2085\n",
       "wraithchild         336\n",
       "wvstethniight       123\n",
       "www365buyingcom       3\n",
       "xAmberly            954\n",
       "xJadaaaa            178\n",
       "x_Bresha            888\n",
       "xbrianna20          397\n",
       "xhyper_AE           180\n",
       "xmelxbennettx       638\n",
       "xmpathicmami       1293\n",
       "xomamabear47        764\n",
       "xxhatred            208\n",
       "xysuvetexeqi        104\n",
       "y00ngiful           274\n",
       "yaybody              74\n",
       "yingyoungin         995\n",
       "yogamanmatt         133\n",
       "yogdog433           100\n",
       "yohaw              1073\n",
       "yoitsmalik         1280\n",
       "youthD_             810\n",
       "yunggbeaut         1737\n",
       "zapalessia         1739\n",
       "zorialdiamond       190\n",
       "zouisrauhl         1186\n",
       "zozolkawdhak        354\n",
       "dtype: object"
      ]
     },
     "execution_count": 17,
     "metadata": {},
     "output_type": "execute_result"
    }
   ],
   "source": [
    "def retweet(df):\n",
    "    list_of_retweets = [element for element in df['tweetText'].values if element.startswith('RT')]\n",
    "    return str(len(list_of_retweets))\n",
    "\n",
    "bipolar_tweets.groupby('username').apply(retweet)\n",
    "#bipolar_tweets[bipolar_tweets.index == 'Demolarsarah'].head(5)\n",
    "#list_of_retweets = [element for element in bipolar_tweets['tweetText'].values if element.startswith('RT')]\n",
    "#print \"Number of Retweets : \" + str(len(list_of_retweets))"
   ]
  },
  {
   "cell_type": "code",
   "execution_count": null,
   "metadata": {
    "collapsed": true
   },
   "outputs": [],
   "source": []
  }
 ],
 "metadata": {
  "anaconda-cloud": {},
  "kernelspec": {
   "display_name": "Python [default]",
   "language": "python",
   "name": "python2"
  },
  "language_info": {
   "codemirror_mode": {
    "name": "ipython",
    "version": 2
   },
   "file_extension": ".py",
   "mimetype": "text/x-python",
   "name": "python",
   "nbconvert_exporter": "python",
   "pygments_lexer": "ipython2",
   "version": "2.7.12"
  }
 },
 "nbformat": 4,
 "nbformat_minor": 1
}
