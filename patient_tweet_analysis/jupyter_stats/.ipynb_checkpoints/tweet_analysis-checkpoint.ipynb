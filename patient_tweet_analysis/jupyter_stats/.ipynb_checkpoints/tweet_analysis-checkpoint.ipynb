{
 "cells": [
  {
   "cell_type": "code",
   "execution_count": 2,
   "metadata": {
    "collapsed": false
   },
   "outputs": [],
   "source": [
    "%matplotlib inline\n",
    "from sklearn.feature_extraction.text import TfidfVectorizer\n",
    "from wordcloud import WordCloud\n",
    "import matplotlib.pyplot as plt\n",
    "import numpy as np\n",
    "import pandas as pd\n",
    "import matplotlib.pyplot as plt\n",
    "import plotly.plotly as plotl\n",
    "import plotly.graph_objs as go\n",
    "import plotly.tools as tls\n",
    "from plotly.tools import FigureFactory as FF\n",
    "\n",
    "import os, csv\n",
    "from multiprocessing import Pool\n",
    "from nltk.corpus import stopwords\n",
    "import string\n",
    "import re\n",
    "from collections import Counter\n",
    "from unicodedata import normalize\n",
    "from nltk import bigrams \n",
    "plt.style.use('ggplot')  \n",
    "tls.set_credentials_file(username='nweat', api_key='BgNMfzTIbo5F2wPiSCCF')"
   ]
  },
  {
   "cell_type": "code",
   "execution_count": 3,
   "metadata": {
    "collapsed": false,
    "scrolled": true
   },
   "outputs": [
    {
     "data": {
      "text/html": [
       "<div>\n",
       "<table border=\"1\" class=\"dataframe\">\n",
       "  <thead>\n",
       "    <tr style=\"text-align: right;\">\n",
       "      <th></th>\n",
       "      <th>userid</th>\n",
       "      <th>username</th>\n",
       "      <th>desc</th>\n",
       "      <th>created</th>\n",
       "      <th>lang</th>\n",
       "      <th>timezone</th>\n",
       "      <th>location</th>\n",
       "      <th>statusNum</th>\n",
       "      <th>followingNum</th>\n",
       "      <th>followersNum</th>\n",
       "      <th>advocate</th>\n",
       "    </tr>\n",
       "  </thead>\n",
       "  <tbody>\n",
       "    <tr>\n",
       "      <th>0</th>\n",
       "      <td>2255546526</td>\n",
       "      <td>Demolarsarah</td>\n",
       "      <td>Because I care about Aleppo and Syria. I want ...</td>\n",
       "      <td>2013-12-20 21:32:23</td>\n",
       "      <td>en</td>\n",
       "      <td>NaN</td>\n",
       "      <td>The west coast.</td>\n",
       "      <td>797</td>\n",
       "      <td>165</td>\n",
       "      <td>37</td>\n",
       "      <td>0</td>\n",
       "    </tr>\n",
       "    <tr>\n",
       "      <th>1</th>\n",
       "      <td>760091616</td>\n",
       "      <td>Bipolar_Bandit</td>\n",
       "      <td>I'm a strong  mental health advocate .  I show...</td>\n",
       "      <td>2012-08-15 20:22:26</td>\n",
       "      <td>en</td>\n",
       "      <td>Atlantic Time (Canada)</td>\n",
       "      <td>North Carolina</td>\n",
       "      <td>11557</td>\n",
       "      <td>9128</td>\n",
       "      <td>11982</td>\n",
       "      <td>1</td>\n",
       "    </tr>\n",
       "  </tbody>\n",
       "</table>\n",
       "</div>"
      ],
      "text/plain": [
       "       userid        username  \\\n",
       "0  2255546526    Demolarsarah   \n",
       "1   760091616  Bipolar_Bandit   \n",
       "\n",
       "                                                desc              created  \\\n",
       "0  Because I care about Aleppo and Syria. I want ...  2013-12-20 21:32:23   \n",
       "1  I'm a strong  mental health advocate .  I show...  2012-08-15 20:22:26   \n",
       "\n",
       "  lang                timezone          location  statusNum  followingNum  \\\n",
       "0   en                     NaN  The west coast.         797           165   \n",
       "1   en  Atlantic Time (Canada)    North Carolina      11557          9128   \n",
       "\n",
       "   followersNum  advocate  \n",
       "0            37         0  \n",
       "1         11982         1  "
      ]
     },
     "execution_count": 3,
     "metadata": {},
     "output_type": "execute_result"
    }
   ],
   "source": [
    "bipolar_patients = pd.read_csv('../bipolar/bipolar_patients.csv')\n",
    "bipolar_comorbid_patients = pd.read_csv('../bipolar_comorbid/bipolar_comorbid_patients.csv')\n",
    "depression_patients = pd.read_csv('../depression/depression_patients.csv')\n",
    "depression_comorbid = pd.read_csv('../depression_comorbid/depression_comorbid_patients.csv')\n",
    "bipolar_patients.head(2) "
   ]
  },
  {
   "cell_type": "code",
   "execution_count": 4,
   "metadata": {
    "collapsed": false
   },
   "outputs": [
    {
     "name": "stdout",
     "output_type": "stream",
     "text": [
      "This is the format of your plot grid:\n",
      "[ (1,1) x1,y1 ]  [ (1,2) x2,y2 ]\n",
      "[ (2,1) x3,y3 ]  [ (2,2) x4,y4 ]\n",
      "\n"
     ]
    },
    {
     "data": {
      "text/html": [
       "<iframe id=\"igraph\" scrolling=\"no\" style=\"border:none;\" seamless=\"seamless\" src=\"https://plot.ly/~nweat/135.embed\" height=\"600px\" width=\"800px\"></iframe>"
      ],
      "text/plain": [
       "<plotly.tools.PlotlyDisplay object>"
      ]
     },
     "execution_count": 4,
     "metadata": {},
     "output_type": "execute_result"
    }
   ],
   "source": [
    "#https://plot.ly/python/subplots/\n",
    "bp = go.Histogram(y=bipolar_patients['lang'])\n",
    "bpc = go.Histogram(y=bipolar_comorbid_patients['lang'])\n",
    "dp = go.Histogram(y=depression_patients['lang'])\n",
    "dpc = go.Histogram(y=depression_comorbid['lang'])\n",
    "\n",
    "fig = tls.make_subplots(rows=2, cols=2, subplot_titles=('Bipolar', 'Bipolar Comorbid','Depression', 'Depression Comorbid'))\n",
    "\n",
    "fig.append_trace(bp, 1, 1)\n",
    "fig.append_trace(bpc, 1, 2)\n",
    "fig.append_trace(dp, 2, 1)\n",
    "fig.append_trace(dpc, 2, 2)\n",
    "\n",
    "fig['layout'].update(height=600, width=800, title='Exploring distribution of patients language')\n",
    "plotl.iplot(fig)"
   ]
  },
  {
   "cell_type": "code",
   "execution_count": 5,
   "metadata": {
    "collapsed": false
   },
   "outputs": [
    {
     "name": "stdout",
     "output_type": "stream",
     "text": [
      "This is the format of your plot grid:\n",
      "[ (1,1) x1,y1 ]  [ (1,2) x2,y2 ]\n",
      "[ (2,1) x3,y3 ]  [ (2,2) x4,y4 ]\n",
      "\n"
     ]
    },
    {
     "data": {
      "text/html": [
       "<iframe id=\"igraph\" scrolling=\"no\" style=\"border:none;\" seamless=\"seamless\" src=\"https://plot.ly/~nweat/137.embed\" height=\"600px\" width=\"800px\"></iframe>"
      ],
      "text/plain": [
       "<plotly.tools.PlotlyDisplay object>"
      ]
     },
     "execution_count": 5,
     "metadata": {},
     "output_type": "execute_result"
    }
   ],
   "source": [
    "bp = go.Histogram(y=bipolar_patients['created'])\n",
    "bpc = go.Histogram(y=bipolar_comorbid_patients['created'])\n",
    "dp = go.Histogram(y=depression_patients['created'])\n",
    "dpc = go.Histogram(y=depression_comorbid['created'])\n",
    "\n",
    "fig = tls.make_subplots(rows=2, cols=2, subplot_titles=('Bipolar', 'Bipolar Comorbid','Depression', 'Depression Comorbid'))\n",
    "\n",
    "fig.append_trace(bp, 1, 1)\n",
    "fig.append_trace(bpc, 1, 2)\n",
    "fig.append_trace(dp, 2, 1)\n",
    "fig.append_trace(dpc, 2, 2)\n",
    "\n",
    "fig['layout'].update(height=600, width=800, title='Exploring distribution of patients create data')\n",
    "plotl.iplot(fig)"
   ]
  },
  {
   "cell_type": "code",
   "execution_count": 6,
   "metadata": {
    "collapsed": false
   },
   "outputs": [
    {
     "name": "stdout",
     "output_type": "stream",
     "text": [
      "This is the format of your plot grid:\n",
      "[ (1,1) x1,y1 ]  [ (1,2) x2,y2 ]\n",
      "[ (2,1) x3,y3 ]  [ (2,2) x4,y4 ]\n",
      "\n"
     ]
    },
    {
     "data": {
      "text/html": [
       "<iframe id=\"igraph\" scrolling=\"no\" style=\"border:none;\" seamless=\"seamless\" src=\"https://plot.ly/~nweat/139.embed\" height=\"600px\" width=\"800px\"></iframe>"
      ],
      "text/plain": [
       "<plotly.tools.PlotlyDisplay object>"
      ]
     },
     "execution_count": 6,
     "metadata": {},
     "output_type": "execute_result"
    }
   ],
   "source": [
    "bp = go.Histogram(y=bipolar_patients['timezone'])\n",
    "bpc = go.Histogram(y=bipolar_comorbid_patients['timezone'])\n",
    "dp = go.Histogram(y=depression_patients['timezone'])\n",
    "dpc = go.Histogram(y=depression_comorbid['timezone'])\n",
    "\n",
    "fig = tls.make_subplots(rows=2, cols=2, subplot_titles=('Bipolar', 'Bipolar Comorbid','Depression', 'Depression Comorbid'))\n",
    "\n",
    "fig.append_trace(bp, 1, 1)\n",
    "fig.append_trace(bpc, 1, 2)\n",
    "fig.append_trace(dp, 2, 1)\n",
    "fig.append_trace(dpc, 2, 2)\n",
    "\n",
    "fig['layout'].update(height=600, width=800, title='Exploring distribution of patients timezone')\n",
    "plotl.iplot(fig)"
   ]
  },
  {
   "cell_type": "code",
   "execution_count": 7,
   "metadata": {
    "collapsed": false
   },
   "outputs": [
    {
     "name": "stdout",
     "output_type": "stream",
     "text": [
      "This is the format of your plot grid:\n",
      "[ (1,1) x1,y1 ]  [ (1,2) x2,y2 ]\n",
      "[ (2,1) x3,y3 ]  [ (2,2) x4,y4 ]\n",
      "\n"
     ]
    },
    {
     "data": {
      "text/html": [
       "<iframe id=\"igraph\" scrolling=\"no\" style=\"border:none;\" seamless=\"seamless\" src=\"https://plot.ly/~nweat/141.embed\" height=\"600px\" width=\"800px\"></iframe>"
      ],
      "text/plain": [
       "<plotly.tools.PlotlyDisplay object>"
      ]
     },
     "execution_count": 7,
     "metadata": {},
     "output_type": "execute_result"
    }
   ],
   "source": [
    "bp = go.Histogram(y=bipolar_patients['statusNum'])\n",
    "bpc = go.Histogram(y=bipolar_comorbid_patients['statusNum'])\n",
    "dp = go.Histogram(y=depression_patients['statusNum'])\n",
    "dpc = go.Histogram(y=depression_comorbid['statusNum'])\n",
    "\n",
    "fig = tls.make_subplots(rows=2, cols=2, subplot_titles=('Bipolar', 'Bipolar Comorbid','Depression', 'Depression Comorbid'))\n",
    "\n",
    "fig.append_trace(bp, 1, 1)\n",
    "fig.append_trace(bpc, 1, 2)\n",
    "fig.append_trace(dp, 2, 1)\n",
    "fig.append_trace(dpc, 2, 2)\n",
    "\n",
    "fig['layout'].update(height=600, width=800, title='Exploring distribution of patients status postings')\n",
    "plotl.iplot(fig)"
   ]
  },
  {
   "cell_type": "code",
   "execution_count": 8,
   "metadata": {
    "collapsed": false
   },
   "outputs": [
    {
     "name": "stdout",
     "output_type": "stream",
     "text": [
      "This is the format of your plot grid:\n",
      "[ (1,1) x1,y1 ]  [ (1,2) x2,y2 ]\n",
      "[ (2,1) x3,y3 ]  [ (2,2) x4,y4 ]\n",
      "\n"
     ]
    },
    {
     "data": {
      "text/html": [
       "<iframe id=\"igraph\" scrolling=\"no\" style=\"border:none;\" seamless=\"seamless\" src=\"https://plot.ly/~nweat/143.embed\" height=\"600px\" width=\"800px\"></iframe>"
      ],
      "text/plain": [
       "<plotly.tools.PlotlyDisplay object>"
      ]
     },
     "execution_count": 8,
     "metadata": {},
     "output_type": "execute_result"
    }
   ],
   "source": [
    "bp = go.Histogram(y=bipolar_patients['advocate'])\n",
    "bpc = go.Histogram(y=bipolar_comorbid_patients['advocate'])\n",
    "dp = go.Histogram(y=depression_patients['advocate'])\n",
    "dpc = go.Histogram(y=depression_comorbid['advocate'])\n",
    "\n",
    "fig = tls.make_subplots(rows=2, cols=2, subplot_titles=('Bipolar', 'Bipolar Comorbid','Depression', 'Depression Comorbid'))\n",
    "\n",
    "fig.append_trace(bp, 1, 1)\n",
    "fig.append_trace(bpc, 1, 2)\n",
    "fig.append_trace(dp, 2, 1)\n",
    "fig.append_trace(dpc, 2, 2)\n",
    "\n",
    "fig['layout'].update(height=600, width=800, title='Exploring distribution of advocates')\n",
    "plotl.iplot(fig)"
   ]
  },
  {
   "cell_type": "code",
   "execution_count": 4,
   "metadata": {
    "collapsed": false
   },
   "outputs": [
    {
     "data": {
      "text/html": [
       "<div>\n",
       "<table border=\"1\" class=\"dataframe\">\n",
       "  <thead>\n",
       "    <tr style=\"text-align: right;\">\n",
       "      <th></th>\n",
       "      <th>userid</th>\n",
       "      <th>username</th>\n",
       "      <th>tweetCreated</th>\n",
       "      <th>tweetLang</th>\n",
       "      <th>tweetText</th>\n",
       "      <th>hashtags</th>\n",
       "      <th>mentions</th>\n",
       "      <th>favorites</th>\n",
       "      <th>retweet</th>\n",
       "    </tr>\n",
       "  </thead>\n",
       "  <tbody>\n",
       "    <tr>\n",
       "      <th>0</th>\n",
       "      <td>2255546526</td>\n",
       "      <td>Demolarsarah</td>\n",
       "      <td>2016-12-30 06:57:04</td>\n",
       "      <td>en</td>\n",
       "      <td>RT @malali888: @Ingo_Neumann i will never give...</td>\n",
       "      <td>NaN</td>\n",
       "      <td>@malali888 @Ingo_Neumann</td>\n",
       "      <td>0</td>\n",
       "      <td>1</td>\n",
       "    </tr>\n",
       "    <tr>\n",
       "      <th>1</th>\n",
       "      <td>2255546526</td>\n",
       "      <td>Demolarsarah</td>\n",
       "      <td>2016-12-30 06:56:40</td>\n",
       "      <td>en</td>\n",
       "      <td>@malali888 But I also pray for peace and heali...</td>\n",
       "      <td>NaN</td>\n",
       "      <td>@malali888</td>\n",
       "      <td>0</td>\n",
       "      <td>0</td>\n",
       "    </tr>\n",
       "    <tr>\n",
       "      <th>2</th>\n",
       "      <td>2255546526</td>\n",
       "      <td>Demolarsarah</td>\n",
       "      <td>2016-12-30 06:54:15</td>\n",
       "      <td>en</td>\n",
       "      <td>RT @malali888: Man holding his daughter after ...</td>\n",
       "      <td>#s</td>\n",
       "      <td>@malali888</td>\n",
       "      <td>0</td>\n",
       "      <td>1</td>\n",
       "    </tr>\n",
       "    <tr>\n",
       "      <th>3</th>\n",
       "      <td>2255546526</td>\n",
       "      <td>Demolarsarah</td>\n",
       "      <td>2016-12-30 06:54:00</td>\n",
       "      <td>en</td>\n",
       "      <td>@malali888 I am praying for him right now! We ...</td>\n",
       "      <td>NaN</td>\n",
       "      <td>@malali888</td>\n",
       "      <td>1</td>\n",
       "      <td>0</td>\n",
       "    </tr>\n",
       "    <tr>\n",
       "      <th>4</th>\n",
       "      <td>2255546526</td>\n",
       "      <td>Demolarsarah</td>\n",
       "      <td>2016-12-28 18:41:02</td>\n",
       "      <td>en</td>\n",
       "      <td>RT @frontlinepbs: What does it really mean to ...</td>\n",
       "      <td>#exodus</td>\n",
       "      <td>@frontlinepbs</td>\n",
       "      <td>0</td>\n",
       "      <td>94</td>\n",
       "    </tr>\n",
       "  </tbody>\n",
       "</table>\n",
       "</div>"
      ],
      "text/plain": [
       "       userid      username         tweetCreated tweetLang  \\\n",
       "0  2255546526  Demolarsarah  2016-12-30 06:57:04        en   \n",
       "1  2255546526  Demolarsarah  2016-12-30 06:56:40        en   \n",
       "2  2255546526  Demolarsarah  2016-12-30 06:54:15        en   \n",
       "3  2255546526  Demolarsarah  2016-12-30 06:54:00        en   \n",
       "4  2255546526  Demolarsarah  2016-12-28 18:41:02        en   \n",
       "\n",
       "                                           tweetText hashtags  \\\n",
       "0  RT @malali888: @Ingo_Neumann i will never give...      NaN   \n",
       "1  @malali888 But I also pray for peace and heali...      NaN   \n",
       "2  RT @malali888: Man holding his daughter after ...       #s   \n",
       "3  @malali888 I am praying for him right now! We ...      NaN   \n",
       "4  RT @frontlinepbs: What does it really mean to ...  #exodus   \n",
       "\n",
       "                   mentions  favorites  retweet  \n",
       "0  @malali888 @Ingo_Neumann          0        1  \n",
       "1                @malali888          0        0  \n",
       "2                @malali888          0        1  \n",
       "3                @malali888          1        0  \n",
       "4             @frontlinepbs          0       94  "
      ]
     },
     "execution_count": 4,
     "metadata": {},
     "output_type": "execute_result"
    }
   ],
   "source": [
    "#http://blog.coderscrowd.com/twitter-hashtag-data-analysis-with-python/\n",
    "######################################################################\n",
    "#######  FORMAT FOR USER LEVEL STATS\n",
    "######################################################################\n",
    "bipolar_tweets = pd.read_csv('../bipolar/bipolar_tweets.csv')\n",
    "bipolar_tweets.head(5)"
   ]
  },
  {
   "cell_type": "code",
   "execution_count": 14,
   "metadata": {
    "collapsed": false
   },
   "outputs": [
    {
     "ename": "KeyError",
     "evalue": "'username'",
     "output_type": "error",
     "traceback": [
      "\u001b[0;31m\u001b[0m",
      "\u001b[0;31mKeyError\u001b[0mTraceback (most recent call last)",
      "\u001b[0;32m<ipython-input-14-8369fea837db>\u001b[0m in \u001b[0;36m<module>\u001b[0;34m()\u001b[0m\n\u001b[1;32m      3\u001b[0m     \u001b[1;32mreturn\u001b[0m \u001b[0mstr\u001b[0m\u001b[1;33m(\u001b[0m\u001b[0mlen\u001b[0m\u001b[1;33m(\u001b[0m\u001b[0mlist_of_retweets\u001b[0m\u001b[1;33m)\u001b[0m\u001b[1;33m)\u001b[0m\u001b[1;33m\u001b[0m\u001b[0m\n\u001b[1;32m      4\u001b[0m \u001b[1;33m\u001b[0m\u001b[0m\n\u001b[0;32m----> 5\u001b[0;31m \u001b[0mbipolar_tweets\u001b[0m \u001b[1;33m=\u001b[0m \u001b[0mbipolar_tweets\u001b[0m\u001b[1;33m.\u001b[0m\u001b[0mgroupby\u001b[0m\u001b[1;33m(\u001b[0m\u001b[1;34m'username'\u001b[0m\u001b[1;33m)\u001b[0m\u001b[1;33m.\u001b[0m\u001b[0mapply\u001b[0m\u001b[1;33m(\u001b[0m\u001b[0mretweet\u001b[0m\u001b[1;33m)\u001b[0m\u001b[1;33m\u001b[0m\u001b[0m\n\u001b[0m\u001b[1;32m      6\u001b[0m \u001b[1;31m#bipolar_tweets[bipolar_tweets.index == 'Demolarsarah'].head(5)\u001b[0m\u001b[1;33m\u001b[0m\u001b[1;33m\u001b[0m\u001b[0m\n\u001b[1;32m      7\u001b[0m \u001b[1;31m#list_of_retweets = [element for element in bipolar_tweets['tweetText'].values if element.startswith('RT')]\u001b[0m\u001b[1;33m\u001b[0m\u001b[1;33m\u001b[0m\u001b[0m\n",
      "\u001b[0;32mC:\\Users\\user\\Anaconda2\\lib\\site-packages\\pandas\\core\\generic.pyc\u001b[0m in \u001b[0;36mgroupby\u001b[0;34m(self, by, axis, level, as_index, sort, group_keys, squeeze, **kwargs)\u001b[0m\n\u001b[1;32m   3776\u001b[0m         return groupby(self, by=by, axis=axis, level=level, as_index=as_index,\n\u001b[1;32m   3777\u001b[0m                        \u001b[0msort\u001b[0m\u001b[1;33m=\u001b[0m\u001b[0msort\u001b[0m\u001b[1;33m,\u001b[0m \u001b[0mgroup_keys\u001b[0m\u001b[1;33m=\u001b[0m\u001b[0mgroup_keys\u001b[0m\u001b[1;33m,\u001b[0m \u001b[0msqueeze\u001b[0m\u001b[1;33m=\u001b[0m\u001b[0msqueeze\u001b[0m\u001b[1;33m,\u001b[0m\u001b[1;33m\u001b[0m\u001b[0m\n\u001b[0;32m-> 3778\u001b[0;31m                        **kwargs)\n\u001b[0m\u001b[1;32m   3779\u001b[0m \u001b[1;33m\u001b[0m\u001b[0m\n\u001b[1;32m   3780\u001b[0m     \u001b[1;32mdef\u001b[0m \u001b[0masfreq\u001b[0m\u001b[1;33m(\u001b[0m\u001b[0mself\u001b[0m\u001b[1;33m,\u001b[0m \u001b[0mfreq\u001b[0m\u001b[1;33m,\u001b[0m \u001b[0mmethod\u001b[0m\u001b[1;33m=\u001b[0m\u001b[0mNone\u001b[0m\u001b[1;33m,\u001b[0m \u001b[0mhow\u001b[0m\u001b[1;33m=\u001b[0m\u001b[0mNone\u001b[0m\u001b[1;33m,\u001b[0m \u001b[0mnormalize\u001b[0m\u001b[1;33m=\u001b[0m\u001b[0mFalse\u001b[0m\u001b[1;33m)\u001b[0m\u001b[1;33m:\u001b[0m\u001b[1;33m\u001b[0m\u001b[0m\n",
      "\u001b[0;32mC:\\Users\\user\\Anaconda2\\lib\\site-packages\\pandas\\core\\groupby.pyc\u001b[0m in \u001b[0;36mgroupby\u001b[0;34m(obj, by, **kwds)\u001b[0m\n\u001b[1;32m   1425\u001b[0m         \u001b[1;32mraise\u001b[0m \u001b[0mTypeError\u001b[0m\u001b[1;33m(\u001b[0m\u001b[1;34m'invalid type: %s'\u001b[0m \u001b[1;33m%\u001b[0m \u001b[0mtype\u001b[0m\u001b[1;33m(\u001b[0m\u001b[0mobj\u001b[0m\u001b[1;33m)\u001b[0m\u001b[1;33m)\u001b[0m\u001b[1;33m\u001b[0m\u001b[0m\n\u001b[1;32m   1426\u001b[0m \u001b[1;33m\u001b[0m\u001b[0m\n\u001b[0;32m-> 1427\u001b[0;31m     \u001b[1;32mreturn\u001b[0m \u001b[0mklass\u001b[0m\u001b[1;33m(\u001b[0m\u001b[0mobj\u001b[0m\u001b[1;33m,\u001b[0m \u001b[0mby\u001b[0m\u001b[1;33m,\u001b[0m \u001b[1;33m**\u001b[0m\u001b[0mkwds\u001b[0m\u001b[1;33m)\u001b[0m\u001b[1;33m\u001b[0m\u001b[0m\n\u001b[0m\u001b[1;32m   1428\u001b[0m \u001b[1;33m\u001b[0m\u001b[0m\n\u001b[1;32m   1429\u001b[0m \u001b[1;33m\u001b[0m\u001b[0m\n",
      "\u001b[0;32mC:\\Users\\user\\Anaconda2\\lib\\site-packages\\pandas\\core\\groupby.pyc\u001b[0m in \u001b[0;36m__init__\u001b[0;34m(self, obj, keys, axis, level, grouper, exclusions, selection, as_index, sort, group_keys, squeeze, **kwargs)\u001b[0m\n\u001b[1;32m    352\u001b[0m                                                     \u001b[0mlevel\u001b[0m\u001b[1;33m=\u001b[0m\u001b[0mlevel\u001b[0m\u001b[1;33m,\u001b[0m\u001b[1;33m\u001b[0m\u001b[0m\n\u001b[1;32m    353\u001b[0m                                                     \u001b[0msort\u001b[0m\u001b[1;33m=\u001b[0m\u001b[0msort\u001b[0m\u001b[1;33m,\u001b[0m\u001b[1;33m\u001b[0m\u001b[0m\n\u001b[0;32m--> 354\u001b[0;31m                                                     mutated=self.mutated)\n\u001b[0m\u001b[1;32m    355\u001b[0m \u001b[1;33m\u001b[0m\u001b[0m\n\u001b[1;32m    356\u001b[0m         \u001b[0mself\u001b[0m\u001b[1;33m.\u001b[0m\u001b[0mobj\u001b[0m \u001b[1;33m=\u001b[0m \u001b[0mobj\u001b[0m\u001b[1;33m\u001b[0m\u001b[0m\n",
      "\u001b[0;32mC:\\Users\\user\\Anaconda2\\lib\\site-packages\\pandas\\core\\groupby.pyc\u001b[0m in \u001b[0;36m_get_grouper\u001b[0;34m(obj, key, axis, level, sort, mutated)\u001b[0m\n\u001b[1;32m   2381\u001b[0m \u001b[1;33m\u001b[0m\u001b[0m\n\u001b[1;32m   2382\u001b[0m         \u001b[1;32melif\u001b[0m \u001b[0mis_in_axis\u001b[0m\u001b[1;33m(\u001b[0m\u001b[0mgpr\u001b[0m\u001b[1;33m)\u001b[0m\u001b[1;33m:\u001b[0m  \u001b[1;31m# df.groupby('name')\u001b[0m\u001b[1;33m\u001b[0m\u001b[0m\n\u001b[0;32m-> 2383\u001b[0;31m             \u001b[0min_axis\u001b[0m\u001b[1;33m,\u001b[0m \u001b[0mname\u001b[0m\u001b[1;33m,\u001b[0m \u001b[0mgpr\u001b[0m \u001b[1;33m=\u001b[0m \u001b[0mTrue\u001b[0m\u001b[1;33m,\u001b[0m \u001b[0mgpr\u001b[0m\u001b[1;33m,\u001b[0m \u001b[0mobj\u001b[0m\u001b[1;33m[\u001b[0m\u001b[0mgpr\u001b[0m\u001b[1;33m]\u001b[0m\u001b[1;33m\u001b[0m\u001b[0m\n\u001b[0m\u001b[1;32m   2384\u001b[0m             \u001b[0mexclusions\u001b[0m\u001b[1;33m.\u001b[0m\u001b[0mappend\u001b[0m\u001b[1;33m(\u001b[0m\u001b[0mname\u001b[0m\u001b[1;33m)\u001b[0m\u001b[1;33m\u001b[0m\u001b[0m\n\u001b[1;32m   2385\u001b[0m \u001b[1;33m\u001b[0m\u001b[0m\n",
      "\u001b[0;32mC:\\Users\\user\\Anaconda2\\lib\\site-packages\\pandas\\core\\series.pyc\u001b[0m in \u001b[0;36m__getitem__\u001b[0;34m(self, key)\u001b[0m\n\u001b[1;32m    581\u001b[0m         \u001b[0mkey\u001b[0m \u001b[1;33m=\u001b[0m \u001b[0mcom\u001b[0m\u001b[1;33m.\u001b[0m\u001b[0m_apply_if_callable\u001b[0m\u001b[1;33m(\u001b[0m\u001b[0mkey\u001b[0m\u001b[1;33m,\u001b[0m \u001b[0mself\u001b[0m\u001b[1;33m)\u001b[0m\u001b[1;33m\u001b[0m\u001b[0m\n\u001b[1;32m    582\u001b[0m         \u001b[1;32mtry\u001b[0m\u001b[1;33m:\u001b[0m\u001b[1;33m\u001b[0m\u001b[0m\n\u001b[0;32m--> 583\u001b[0;31m             \u001b[0mresult\u001b[0m \u001b[1;33m=\u001b[0m \u001b[0mself\u001b[0m\u001b[1;33m.\u001b[0m\u001b[0mindex\u001b[0m\u001b[1;33m.\u001b[0m\u001b[0mget_value\u001b[0m\u001b[1;33m(\u001b[0m\u001b[0mself\u001b[0m\u001b[1;33m,\u001b[0m \u001b[0mkey\u001b[0m\u001b[1;33m)\u001b[0m\u001b[1;33m\u001b[0m\u001b[0m\n\u001b[0m\u001b[1;32m    584\u001b[0m \u001b[1;33m\u001b[0m\u001b[0m\n\u001b[1;32m    585\u001b[0m             \u001b[1;32mif\u001b[0m \u001b[1;32mnot\u001b[0m \u001b[0mlib\u001b[0m\u001b[1;33m.\u001b[0m\u001b[0misscalar\u001b[0m\u001b[1;33m(\u001b[0m\u001b[0mresult\u001b[0m\u001b[1;33m)\u001b[0m\u001b[1;33m:\u001b[0m\u001b[1;33m\u001b[0m\u001b[0m\n",
      "\u001b[0;32mC:\\Users\\user\\Anaconda2\\lib\\site-packages\\pandas\\indexes\\base.pyc\u001b[0m in \u001b[0;36mget_value\u001b[0;34m(self, series, key)\u001b[0m\n\u001b[1;32m   1992\u001b[0m                     \u001b[1;32mraise\u001b[0m \u001b[0mInvalidIndexError\u001b[0m\u001b[1;33m(\u001b[0m\u001b[0mkey\u001b[0m\u001b[1;33m)\u001b[0m\u001b[1;33m\u001b[0m\u001b[0m\n\u001b[1;32m   1993\u001b[0m                 \u001b[1;32melse\u001b[0m\u001b[1;33m:\u001b[0m\u001b[1;33m\u001b[0m\u001b[0m\n\u001b[0;32m-> 1994\u001b[0;31m                     \u001b[1;32mraise\u001b[0m \u001b[0me1\u001b[0m\u001b[1;33m\u001b[0m\u001b[0m\n\u001b[0m\u001b[1;32m   1995\u001b[0m             \u001b[1;32mexcept\u001b[0m \u001b[0mException\u001b[0m\u001b[1;33m:\u001b[0m  \u001b[1;31m# pragma: no cover\u001b[0m\u001b[1;33m\u001b[0m\u001b[0m\n\u001b[1;32m   1996\u001b[0m                 \u001b[1;32mraise\u001b[0m \u001b[0me1\u001b[0m\u001b[1;33m\u001b[0m\u001b[0m\n",
      "\u001b[0;31mKeyError\u001b[0m: 'username'"
     ]
    }
   ],
   "source": [
    "def retweet(df):\n",
    "    list_of_retweets = [element for element in df['tweetText'].values if element.startswith('RT')]\n",
    "    return str(len(list_of_retweets))\n",
    "\n",
    "bipolar_tweets.groupby('username').apply(retweet)\n",
    "#bipolar_tweets[bipolar_tweets.index == 'Demolarsarah'].head(5)\n",
    "#list_of_retweets = [element for element in bipolar_tweets['tweetText'].values if element.startswith('RT')]\n",
    "#print \"Number of Retweets : \" + str(len(list_of_retweets))"
   ]
  },
  {
   "cell_type": "code",
   "execution_count": null,
   "metadata": {
    "collapsed": true
   },
   "outputs": [],
   "source": []
  }
 ],
 "metadata": {
  "anaconda-cloud": {},
  "kernelspec": {
   "display_name": "Python [default]",
   "language": "python",
   "name": "python2"
  },
  "language_info": {
   "codemirror_mode": {
    "name": "ipython",
    "version": 2
   },
   "file_extension": ".py",
   "mimetype": "text/x-python",
   "name": "python",
   "nbconvert_exporter": "python",
   "pygments_lexer": "ipython2",
   "version": "2.7.12"
  }
 },
 "nbformat": 4,
 "nbformat_minor": 1
}
