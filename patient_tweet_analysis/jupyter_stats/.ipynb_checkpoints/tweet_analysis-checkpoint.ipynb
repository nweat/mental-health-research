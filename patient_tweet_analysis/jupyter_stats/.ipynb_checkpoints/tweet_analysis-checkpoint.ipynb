{
 "cells": [
  {
   "cell_type": "code",
   "execution_count": 2,
   "metadata": {
    "collapsed": false
   },
   "outputs": [],
   "source": [
    "%matplotlib inline\n",
    "from sklearn.feature_extraction.text import TfidfVectorizer\n",
    "from wordcloud import WordCloud\n",
    "import matplotlib.pyplot as plt\n",
    "import numpy as np\n",
    "import pandas as pd\n",
    "import matplotlib.pyplot as plt\n",
    "import plotly.plotly as plotl\n",
    "import plotly.graph_objs as go\n",
    "import plotly.tools as tls\n",
    "from plotly.tools import FigureFactory as FF\n",
    "\n",
    "import os, csv\n",
    "from multiprocessing import Pool\n",
    "from nltk.corpus import stopwords\n",
    "import string\n",
    "import re\n",
    "from collections import Counter\n",
    "from unicodedata import normalize\n",
    "from nltk import bigrams \n",
    "plt.style.use('ggplot')  \n",
    "tls.set_credentials_file(username='nweat', api_key='BgNMfzTIbo5F2wPiSCCF')"
   ]
  },
  {
   "cell_type": "code",
   "execution_count": 3,
   "metadata": {
    "collapsed": false,
    "scrolled": true
   },
   "outputs": [
    {
     "data": {
      "text/html": [
       "<div>\n",
       "<table border=\"1\" class=\"dataframe\">\n",
       "  <thead>\n",
       "    <tr style=\"text-align: right;\">\n",
       "      <th></th>\n",
       "      <th>userid</th>\n",
       "      <th>username</th>\n",
       "      <th>desc</th>\n",
       "      <th>created</th>\n",
       "      <th>lang</th>\n",
       "      <th>timezone</th>\n",
       "      <th>location</th>\n",
       "      <th>statusNum</th>\n",
       "      <th>followingNum</th>\n",
       "      <th>followersNum</th>\n",
       "      <th>advocate</th>\n",
       "    </tr>\n",
       "  </thead>\n",
       "  <tbody>\n",
       "    <tr>\n",
       "      <th>0</th>\n",
       "      <td>2255546526</td>\n",
       "      <td>Demolarsarah</td>\n",
       "      <td>Because I care about Aleppo and Syria. I want ...</td>\n",
       "      <td>2013-12-20 21:32:23</td>\n",
       "      <td>en</td>\n",
       "      <td>NaN</td>\n",
       "      <td>The west coast.</td>\n",
       "      <td>797</td>\n",
       "      <td>165</td>\n",
       "      <td>37</td>\n",
       "      <td>0</td>\n",
       "    </tr>\n",
       "    <tr>\n",
       "      <th>1</th>\n",
       "      <td>760091616</td>\n",
       "      <td>Bipolar_Bandit</td>\n",
       "      <td>I'm a strong  mental health advocate .  I show...</td>\n",
       "      <td>2012-08-15 20:22:26</td>\n",
       "      <td>en</td>\n",
       "      <td>Atlantic Time (Canada)</td>\n",
       "      <td>North Carolina</td>\n",
       "      <td>11557</td>\n",
       "      <td>9128</td>\n",
       "      <td>11982</td>\n",
       "      <td>1</td>\n",
       "    </tr>\n",
       "  </tbody>\n",
       "</table>\n",
       "</div>"
      ],
      "text/plain": [
       "       userid        username  \\\n",
       "0  2255546526    Demolarsarah   \n",
       "1   760091616  Bipolar_Bandit   \n",
       "\n",
       "                                                desc              created  \\\n",
       "0  Because I care about Aleppo and Syria. I want ...  2013-12-20 21:32:23   \n",
       "1  I'm a strong  mental health advocate .  I show...  2012-08-15 20:22:26   \n",
       "\n",
       "  lang                timezone          location  statusNum  followingNum  \\\n",
       "0   en                     NaN  The west coast.         797           165   \n",
       "1   en  Atlantic Time (Canada)    North Carolina      11557          9128   \n",
       "\n",
       "   followersNum  advocate  \n",
       "0            37         0  \n",
       "1         11982         1  "
      ]
     },
     "execution_count": 3,
     "metadata": {},
     "output_type": "execute_result"
    }
   ],
   "source": [
    "bipolar_patients = pd.read_csv('../bipolar/bipolar_patients.csv')\n",
    "bipolar_comorbid_patients = pd.read_csv('../bipolar_comorbid/bipolar_comorbid_patients.csv')\n",
    "depression_patients = pd.read_csv('../depression/depression_patients.csv')\n",
    "depression_comorbid = pd.read_csv('../depression_comorbid/depression_comorbid_patients.csv')\n",
    "bipolar_patients.head(2) "
   ]
  },
  {
   "cell_type": "code",
   "execution_count": 4,
   "metadata": {
    "collapsed": false
   },
   "outputs": [
    {
     "name": "stdout",
     "output_type": "stream",
     "text": [
      "This is the format of your plot grid:\n",
      "[ (1,1) x1,y1 ]  [ (1,2) x2,y2 ]\n",
      "[ (2,1) x3,y3 ]  [ (2,2) x4,y4 ]\n",
      "\n"
     ]
    },
    {
     "data": {
      "text/html": [
       "<iframe id=\"igraph\" scrolling=\"no\" style=\"border:none;\" seamless=\"seamless\" src=\"https://plot.ly/~nweat/135.embed\" height=\"600px\" width=\"800px\"></iframe>"
      ],
      "text/plain": [
       "<plotly.tools.PlotlyDisplay object>"
      ]
     },
     "execution_count": 4,
     "metadata": {},
     "output_type": "execute_result"
    }
   ],
   "source": [
    "#https://plot.ly/python/subplots/\n",
    "bp = go.Histogram(y=bipolar_patients['lang'])\n",
    "bpc = go.Histogram(y=bipolar_comorbid_patients['lang'])\n",
    "dp = go.Histogram(y=depression_patients['lang'])\n",
    "dpc = go.Histogram(y=depression_comorbid['lang'])\n",
    "\n",
    "fig = tls.make_subplots(rows=2, cols=2, subplot_titles=('Bipolar', 'Bipolar Comorbid','Depression', 'Depression Comorbid'))\n",
    "\n",
    "fig.append_trace(bp, 1, 1)\n",
    "fig.append_trace(bpc, 1, 2)\n",
    "fig.append_trace(dp, 2, 1)\n",
    "fig.append_trace(dpc, 2, 2)\n",
    "\n",
    "fig['layout'].update(height=600, width=800, title='Exploring distribution of patients language')\n",
    "plotl.iplot(fig)"
   ]
  },
  {
   "cell_type": "code",
   "execution_count": 5,
   "metadata": {
    "collapsed": false
   },
   "outputs": [
    {
     "name": "stdout",
     "output_type": "stream",
     "text": [
      "This is the format of your plot grid:\n",
      "[ (1,1) x1,y1 ]  [ (1,2) x2,y2 ]\n",
      "[ (2,1) x3,y3 ]  [ (2,2) x4,y4 ]\n",
      "\n"
     ]
    },
    {
     "data": {
      "text/html": [
       "<iframe id=\"igraph\" scrolling=\"no\" style=\"border:none;\" seamless=\"seamless\" src=\"https://plot.ly/~nweat/137.embed\" height=\"600px\" width=\"800px\"></iframe>"
      ],
      "text/plain": [
       "<plotly.tools.PlotlyDisplay object>"
      ]
     },
     "execution_count": 5,
     "metadata": {},
     "output_type": "execute_result"
    }
   ],
   "source": [
    "bp = go.Histogram(y=bipolar_patients['created'])\n",
    "bpc = go.Histogram(y=bipolar_comorbid_patients['created'])\n",
    "dp = go.Histogram(y=depression_patients['created'])\n",
    "dpc = go.Histogram(y=depression_comorbid['created'])\n",
    "\n",
    "fig = tls.make_subplots(rows=2, cols=2, subplot_titles=('Bipolar', 'Bipolar Comorbid','Depression', 'Depression Comorbid'))\n",
    "\n",
    "fig.append_trace(bp, 1, 1)\n",
    "fig.append_trace(bpc, 1, 2)\n",
    "fig.append_trace(dp, 2, 1)\n",
    "fig.append_trace(dpc, 2, 2)\n",
    "\n",
    "fig['layout'].update(height=600, width=800, title='Exploring distribution of patients create data')\n",
    "plotl.iplot(fig)"
   ]
  },
  {
   "cell_type": "code",
   "execution_count": 6,
   "metadata": {
    "collapsed": false
   },
   "outputs": [
    {
     "name": "stdout",
     "output_type": "stream",
     "text": [
      "This is the format of your plot grid:\n",
      "[ (1,1) x1,y1 ]  [ (1,2) x2,y2 ]\n",
      "[ (2,1) x3,y3 ]  [ (2,2) x4,y4 ]\n",
      "\n"
     ]
    },
    {
     "data": {
      "text/html": [
       "<iframe id=\"igraph\" scrolling=\"no\" style=\"border:none;\" seamless=\"seamless\" src=\"https://plot.ly/~nweat/139.embed\" height=\"600px\" width=\"800px\"></iframe>"
      ],
      "text/plain": [
       "<plotly.tools.PlotlyDisplay object>"
      ]
     },
     "execution_count": 6,
     "metadata": {},
     "output_type": "execute_result"
    }
   ],
   "source": [
    "bp = go.Histogram(y=bipolar_patients['timezone'])\n",
    "bpc = go.Histogram(y=bipolar_comorbid_patients['timezone'])\n",
    "dp = go.Histogram(y=depression_patients['timezone'])\n",
    "dpc = go.Histogram(y=depression_comorbid['timezone'])\n",
    "\n",
    "fig = tls.make_subplots(rows=2, cols=2, subplot_titles=('Bipolar', 'Bipolar Comorbid','Depression', 'Depression Comorbid'))\n",
    "\n",
    "fig.append_trace(bp, 1, 1)\n",
    "fig.append_trace(bpc, 1, 2)\n",
    "fig.append_trace(dp, 2, 1)\n",
    "fig.append_trace(dpc, 2, 2)\n",
    "\n",
    "fig['layout'].update(height=600, width=800, title='Exploring distribution of patients timezone')\n",
    "plotl.iplot(fig)"
   ]
  },
  {
   "cell_type": "code",
   "execution_count": 7,
   "metadata": {
    "collapsed": false
   },
   "outputs": [
    {
     "name": "stdout",
     "output_type": "stream",
     "text": [
      "This is the format of your plot grid:\n",
      "[ (1,1) x1,y1 ]  [ (1,2) x2,y2 ]\n",
      "[ (2,1) x3,y3 ]  [ (2,2) x4,y4 ]\n",
      "\n"
     ]
    },
    {
     "data": {
      "text/html": [
       "<iframe id=\"igraph\" scrolling=\"no\" style=\"border:none;\" seamless=\"seamless\" src=\"https://plot.ly/~nweat/141.embed\" height=\"600px\" width=\"800px\"></iframe>"
      ],
      "text/plain": [
       "<plotly.tools.PlotlyDisplay object>"
      ]
     },
     "execution_count": 7,
     "metadata": {},
     "output_type": "execute_result"
    }
   ],
   "source": [
    "bp = go.Histogram(y=bipolar_patients['statusNum'])\n",
    "bpc = go.Histogram(y=bipolar_comorbid_patients['statusNum'])\n",
    "dp = go.Histogram(y=depression_patients['statusNum'])\n",
    "dpc = go.Histogram(y=depression_comorbid['statusNum'])\n",
    "\n",
    "fig = tls.make_subplots(rows=2, cols=2, subplot_titles=('Bipolar', 'Bipolar Comorbid','Depression', 'Depression Comorbid'))\n",
    "\n",
    "fig.append_trace(bp, 1, 1)\n",
    "fig.append_trace(bpc, 1, 2)\n",
    "fig.append_trace(dp, 2, 1)\n",
    "fig.append_trace(dpc, 2, 2)\n",
    "\n",
    "fig['layout'].update(height=600, width=800, title='Exploring distribution of patients status postings')\n",
    "plotl.iplot(fig)"
   ]
  },
  {
   "cell_type": "code",
   "execution_count": 8,
   "metadata": {
    "collapsed": false
   },
   "outputs": [
    {
     "name": "stdout",
     "output_type": "stream",
     "text": [
      "This is the format of your plot grid:\n",
      "[ (1,1) x1,y1 ]  [ (1,2) x2,y2 ]\n",
      "[ (2,1) x3,y3 ]  [ (2,2) x4,y4 ]\n",
      "\n"
     ]
    },
    {
     "data": {
      "text/html": [
       "<iframe id=\"igraph\" scrolling=\"no\" style=\"border:none;\" seamless=\"seamless\" src=\"https://plot.ly/~nweat/143.embed\" height=\"600px\" width=\"800px\"></iframe>"
      ],
      "text/plain": [
       "<plotly.tools.PlotlyDisplay object>"
      ]
     },
     "execution_count": 8,
     "metadata": {},
     "output_type": "execute_result"
    }
   ],
   "source": [
    "bp = go.Histogram(y=bipolar_patients['advocate'])\n",
    "bpc = go.Histogram(y=bipolar_comorbid_patients['advocate'])\n",
    "dp = go.Histogram(y=depression_patients['advocate'])\n",
    "dpc = go.Histogram(y=depression_comorbid['advocate'])\n",
    "\n",
    "fig = tls.make_subplots(rows=2, cols=2, subplot_titles=('Bipolar', 'Bipolar Comorbid','Depression', 'Depression Comorbid'))\n",
    "\n",
    "fig.append_trace(bp, 1, 1)\n",
    "fig.append_trace(bpc, 1, 2)\n",
    "fig.append_trace(dp, 2, 1)\n",
    "fig.append_trace(dpc, 2, 2)\n",
    "\n",
    "fig['layout'].update(height=600, width=800, title='Exploring distribution of advocates')\n",
    "plotl.iplot(fig)"
   ]
  },
  {
   "cell_type": "code",
   "execution_count": 4,
   "metadata": {
    "collapsed": false
   },
   "outputs": [
    {
     "data": {
      "text/html": [
       "<div>\n",
       "<table border=\"1\" class=\"dataframe\">\n",
       "  <thead>\n",
       "    <tr style=\"text-align: right;\">\n",
       "      <th></th>\n",
       "      <th>userid</th>\n",
       "      <th>username</th>\n",
       "      <th>tweetCreated</th>\n",
       "      <th>tweetLang</th>\n",
       "      <th>tweetText</th>\n",
       "      <th>hashtags</th>\n",
       "      <th>mentions</th>\n",
       "      <th>favorites</th>\n",
       "      <th>retweet</th>\n",
       "    </tr>\n",
       "  </thead>\n",
       "  <tbody>\n",
       "    <tr>\n",
       "      <th>0</th>\n",
       "      <td>710989245570289665</td>\n",
       "      <td>zaaria_</td>\n",
       "      <td>2017-01-11 17:40:53</td>\n",
       "      <td>en</td>\n",
       "      <td>The rain plus this wind &amp;lt;&amp;lt;&amp;lt;&amp;lt;🙄🙄</td>\n",
       "      <td>NaN</td>\n",
       "      <td>NaN</td>\n",
       "      <td>0</td>\n",
       "      <td>0</td>\n",
       "    </tr>\n",
       "    <tr>\n",
       "      <th>1</th>\n",
       "      <td>710989245570289665</td>\n",
       "      <td>zaaria_</td>\n",
       "      <td>2017-01-11 15:20:00</td>\n",
       "      <td>en</td>\n",
       "      <td>I love shy glizzys voice</td>\n",
       "      <td>NaN</td>\n",
       "      <td>NaN</td>\n",
       "      <td>1</td>\n",
       "      <td>0</td>\n",
       "    </tr>\n",
       "    <tr>\n",
       "      <th>2</th>\n",
       "      <td>710989245570289665</td>\n",
       "      <td>zaaria_</td>\n",
       "      <td>2017-01-11 07:01:23</td>\n",
       "      <td>en</td>\n",
       "      <td>One of my nostrils is stuffed up. I am so anno...</td>\n",
       "      <td>NaN</td>\n",
       "      <td>NaN</td>\n",
       "      <td>0</td>\n",
       "      <td>0</td>\n",
       "    </tr>\n",
       "    <tr>\n",
       "      <th>3</th>\n",
       "      <td>710989245570289665</td>\n",
       "      <td>zaaria_</td>\n",
       "      <td>2017-01-11 06:49:44</td>\n",
       "      <td>en</td>\n",
       "      <td>I'm still up and honestly I'm not even surprised</td>\n",
       "      <td>NaN</td>\n",
       "      <td>NaN</td>\n",
       "      <td>2</td>\n",
       "      <td>2</td>\n",
       "    </tr>\n",
       "    <tr>\n",
       "      <th>4</th>\n",
       "      <td>710989245570289665</td>\n",
       "      <td>zaaria_</td>\n",
       "      <td>2017-01-11 05:59:38</td>\n",
       "      <td>en</td>\n",
       "      <td>Orrrrrr maybe she knows he's ugly and doesn't ...</td>\n",
       "      <td>NaN</td>\n",
       "      <td>NaN</td>\n",
       "      <td>0</td>\n",
       "      <td>1</td>\n",
       "    </tr>\n",
       "  </tbody>\n",
       "</table>\n",
       "</div>"
      ],
      "text/plain": [
       "               userid username         tweetCreated tweetLang  \\\n",
       "0  710989245570289665  zaaria_  2017-01-11 17:40:53        en   \n",
       "1  710989245570289665  zaaria_  2017-01-11 15:20:00        en   \n",
       "2  710989245570289665  zaaria_  2017-01-11 07:01:23        en   \n",
       "3  710989245570289665  zaaria_  2017-01-11 06:49:44        en   \n",
       "4  710989245570289665  zaaria_  2017-01-11 05:59:38        en   \n",
       "\n",
       "                                           tweetText  hashtags mentions  \\\n",
       "0       The rain plus this wind &lt;&lt;&lt;&lt;🙄🙄       NaN      NaN   \n",
       "1                           I love shy glizzys voice       NaN      NaN   \n",
       "2  One of my nostrils is stuffed up. I am so anno...       NaN      NaN   \n",
       "3   I'm still up and honestly I'm not even surprised       NaN      NaN   \n",
       "4  Orrrrrr maybe she knows he's ugly and doesn't ...       NaN      NaN   \n",
       "\n",
       "   favorites  retweet  \n",
       "0          0        0  \n",
       "1          1        0  \n",
       "2          0        0  \n",
       "3          2        2  \n",
       "4          0        1  "
      ]
     },
     "execution_count": 4,
     "metadata": {},
     "output_type": "execute_result"
    }
   ],
   "source": [
    "#http://brandonrose.org/clustering\n",
    "###############################################################################################\n",
    "#########################     KEYWORD EXTRACTION                      #########################\n",
    "###############################################################################################\n",
    "bipolar_tweets = pd.read_csv('../bipolar_comorbid/bipolar_comorbid_tweets-sample.csv')\n",
    "bipolar_tweets.head()"
   ]
  },
  {
   "cell_type": "code",
   "execution_count": 40,
   "metadata": {
    "collapsed": false
   },
   "outputs": [
    {
     "ename": "AttributeError",
     "evalue": "'Series' object has no attribute 'decode'",
     "output_type": "error",
     "traceback": [
      "\u001b[0;31m\u001b[0m",
      "\u001b[0;31mAttributeError\u001b[0mTraceback (most recent call last)",
      "\u001b[0;32m<ipython-input-40-ed0bbbc5ed56>\u001b[0m in \u001b[0;36m<module>\u001b[0;34m()\u001b[0m\n\u001b[1;32m     42\u001b[0m \u001b[1;33m\u001b[0m\u001b[0m\n\u001b[1;32m     43\u001b[0m \u001b[1;32mfor\u001b[0m \u001b[0mgroup_name\u001b[0m\u001b[1;33m,\u001b[0m \u001b[0mdf\u001b[0m \u001b[1;32min\u001b[0m \u001b[0mbipolar_tweetslower\u001b[0m\u001b[1;33m:\u001b[0m\u001b[1;33m\u001b[0m\u001b[0m\n\u001b[0;32m---> 44\u001b[0;31m     \u001b[0mterms_all\u001b[0m \u001b[1;33m=\u001b[0m \u001b[1;33m[\u001b[0m\u001b[0mterm\u001b[0m \u001b[1;32mfor\u001b[0m \u001b[0mterm\u001b[0m \u001b[1;32min\u001b[0m \u001b[0mpreprocess\u001b[0m\u001b[1;33m(\u001b[0m\u001b[0mdf\u001b[0m\u001b[1;33m[\u001b[0m\u001b[1;34m'tweetText'\u001b[0m\u001b[1;33m]\u001b[0m\u001b[1;33m.\u001b[0m\u001b[0mstr\u001b[0m\u001b[1;33m.\u001b[0m\u001b[0mlower\u001b[0m\u001b[1;33m(\u001b[0m\u001b[1;33m)\u001b[0m\u001b[1;33m.\u001b[0m\u001b[0mdecode\u001b[0m\u001b[1;33m(\u001b[0m\u001b[1;34m'unicode_escape'\u001b[0m\u001b[1;33m)\u001b[0m\u001b[1;33m.\u001b[0m\u001b[0mencode\u001b[0m\u001b[1;33m(\u001b[0m\u001b[1;34m'ascii'\u001b[0m\u001b[1;33m,\u001b[0m\u001b[1;34m'ignore'\u001b[0m\u001b[1;33m)\u001b[0m\u001b[1;33m)\u001b[0m \u001b[1;32mif\u001b[0m \u001b[0mterm\u001b[0m \u001b[1;32mnot\u001b[0m \u001b[1;32min\u001b[0m \u001b[0mstop\u001b[0m\u001b[1;33m]\u001b[0m\u001b[1;33m\u001b[0m\u001b[0m\n\u001b[0m\u001b[1;32m     45\u001b[0m     \u001b[1;32mprint\u001b[0m \u001b[0mterms_all\u001b[0m\u001b[1;33m\u001b[0m\u001b[0m\n",
      "\u001b[0;32mC:\\Users\\user\\Anaconda2\\lib\\site-packages\\pandas\\core\\generic.pyc\u001b[0m in \u001b[0;36m__getattr__\u001b[0;34m(self, name)\u001b[0m\n\u001b[1;32m   2670\u001b[0m             \u001b[1;32mif\u001b[0m \u001b[0mname\u001b[0m \u001b[1;32min\u001b[0m \u001b[0mself\u001b[0m\u001b[1;33m.\u001b[0m\u001b[0m_info_axis\u001b[0m\u001b[1;33m:\u001b[0m\u001b[1;33m\u001b[0m\u001b[0m\n\u001b[1;32m   2671\u001b[0m                 \u001b[1;32mreturn\u001b[0m \u001b[0mself\u001b[0m\u001b[1;33m[\u001b[0m\u001b[0mname\u001b[0m\u001b[1;33m]\u001b[0m\u001b[1;33m\u001b[0m\u001b[0m\n\u001b[0;32m-> 2672\u001b[0;31m             \u001b[1;32mreturn\u001b[0m \u001b[0mobject\u001b[0m\u001b[1;33m.\u001b[0m\u001b[0m__getattribute__\u001b[0m\u001b[1;33m(\u001b[0m\u001b[0mself\u001b[0m\u001b[1;33m,\u001b[0m \u001b[0mname\u001b[0m\u001b[1;33m)\u001b[0m\u001b[1;33m\u001b[0m\u001b[0m\n\u001b[0m\u001b[1;32m   2673\u001b[0m \u001b[1;33m\u001b[0m\u001b[0m\n\u001b[1;32m   2674\u001b[0m     \u001b[1;32mdef\u001b[0m \u001b[0m__setattr__\u001b[0m\u001b[1;33m(\u001b[0m\u001b[0mself\u001b[0m\u001b[1;33m,\u001b[0m \u001b[0mname\u001b[0m\u001b[1;33m,\u001b[0m \u001b[0mvalue\u001b[0m\u001b[1;33m)\u001b[0m\u001b[1;33m:\u001b[0m\u001b[1;33m\u001b[0m\u001b[0m\n",
      "\u001b[0;31mAttributeError\u001b[0m: 'Series' object has no attribute 'decode'"
     ]
    }
   ],
   "source": [
    "emoticons_str = r\"\"\"\n",
    "(?:\n",
    "    [:=;] # Eyes\n",
    "    [oO\\-]? # Nose (optional)\n",
    "    [D\\)\\]\\(\\]/\\\\OpP] # Mouth\n",
    ")\"\"\"\n",
    "\n",
    "regex_str = [\n",
    "    emoticons_str,\n",
    "    r'<[^>]+>', # HTML tags\n",
    "    r'(?:@[\\w_]+)', # @-mentions\n",
    "    r\"(?:\\#+[\\w_]+[\\w\\'_\\-]*[\\w_]+)\", # hash-tags\n",
    "    r'http[s]?://(?:[a-z]|[0-9]|[$-_@.&amp;+]|[!*\\(\\),]|(?:%[0-9a-f][0-9a-f]))+', # URLs\n",
    "\n",
    "    r'(?:(?:\\d+,?)+(?:\\.?\\d+)?)', # numbers\n",
    "    r\"(?:[a-z][a-z'\\-_]+[a-z])\", # words with - and '\n",
    "    r'(?:[\\w_]+)', # other words\n",
    "    r'(?:\\S)' # anything else\n",
    "]\n",
    "\n",
    "tokens_re = re.compile(r'('+'|'.join(regex_str)+')', re.VERBOSE | re.IGNORECASE)\n",
    "emoticon_re = re.compile(r'^'+emoticons_str+'$', re.VERBOSE | re.IGNORECASE)\n",
    "\n",
    "def tokenize(s):\n",
    "    return tokens_re.findall(s)\n",
    "\n",
    "def preprocess(s, lowercase=False):\n",
    "    tokens = tokenize(s)\n",
    "    if lowercase:\n",
    "        tokens = [token if emoticon_re.search(token) else token.lower() for token in tokens]\n",
    "    return tokens\n",
    "\n",
    "punctuation = list(string.punctuation)\n",
    "stop = stopwords.words('english') + punctuation + ['rt', 'via']\n",
    "\n",
    "\n",
    "\n",
    "def process(df):\n",
    "    return [{'test':df.str.upper()}, {'test2':df.str.lower()}]\n",
    "    \n",
    "bipolar_tweetslower = bipolar_tweets.groupby('username')#['tweetText'].apply(test)\n",
    "\n",
    "for group_name, df in bipolar_tweetslower:\n",
    "    terms_all = [term for term in preprocess(df['tweetText'].str.lower()) if term not in stop]\n",
    "    print terms_all\n"
   ]
  },
  {
   "cell_type": "code",
   "execution_count": null,
   "metadata": {
    "collapsed": true
   },
   "outputs": [],
   "source": []
  }
 ],
 "metadata": {
  "anaconda-cloud": {},
  "kernelspec": {
   "display_name": "Python [default]",
   "language": "python",
   "name": "python2"
  },
  "language_info": {
   "codemirror_mode": {
    "name": "ipython",
    "version": 2
   },
   "file_extension": ".py",
   "mimetype": "text/x-python",
   "name": "python",
   "nbconvert_exporter": "python",
   "pygments_lexer": "ipython2",
   "version": "2.7.12"
  }
 },
 "nbformat": 4,
 "nbformat_minor": 1
}
